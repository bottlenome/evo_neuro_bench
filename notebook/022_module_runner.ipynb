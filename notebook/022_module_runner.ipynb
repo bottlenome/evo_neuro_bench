{
  "cells": [
    {
      "cell_type": "markdown",
      "metadata": {
        "id": "1IGe0Rfaul_K"
      },
      "source": [
        "# Evo-Neuro Benchmark (Modular Version)\n",
        "\n",
        "This notebook demonstrates how to run the modularized Evo-Neuro benchmark inside Google Colab while keeping the source code in this repository.\n"
      ],
      "id": "1IGe0Rfaul_K"
    },
    {
      "cell_type": "markdown",
      "metadata": {
        "id": "m4nGCppdul_L"
      },
      "source": [
        "## 1. Install the package in editable mode\n",
        "If you are running on Colab, clone your fork of the repository and install it with `pip install -e .`.\n",
        "\n",
        "```bash\n",
        "# clone your fork (replace with your URL)\n",
        "# !git clone https://github.com/bottlenome/evo_neuro_bench.git\n",
        "# %cd evo_neuro_bench\n",
        "!pip install -e .\n",
        "```\n"
      ],
      "id": "m4nGCppdul_L"
    },
    {
      "cell_type": "code",
      "source": [
        "!git clone https://github.com/bottlenome/evo_neuro_bench.git\n",
        "%cd evo_neuro_bench\n",
        "!pip install -e ."
      ],
      "metadata": {
        "colab": {
          "base_uri": "https://localhost:8080/"
        },
        "id": "BiAvQXSAuuYm",
        "outputId": "bc6275e6-240c-4e74-a7ae-8a4917d9e33c"
      },
      "id": "BiAvQXSAuuYm",
      "execution_count": 1,
      "outputs": [
        {
          "output_type": "stream",
          "name": "stdout",
          "text": [
            "Cloning into 'evo_neuro_bench'...\n",
            "remote: Enumerating objects: 65, done.\u001b[K\n",
            "remote: Counting objects: 100% (65/65), done.\u001b[K\n",
            "remote: Compressing objects: 100% (59/59), done.\u001b[K\n",
            "remote: Total 65 (delta 16), reused 4 (delta 0), pack-reused 0 (from 0)\u001b[K\n",
            "Receiving objects: 100% (65/65), 55.04 KiB | 853.00 KiB/s, done.\n",
            "Resolving deltas: 100% (16/16), done.\n",
            "/content/evo_neuro_bench\n",
            "Obtaining file:///content/evo_neuro_bench\n",
            "  Installing build dependencies ... \u001b[?25l\u001b[?25hdone\n",
            "  Checking if build backend supports build_editable ... \u001b[?25l\u001b[?25hdone\n",
            "  Getting requirements to build editable ... \u001b[?25l\u001b[?25hdone\n",
            "  Preparing editable metadata (pyproject.toml) ... \u001b[?25l\u001b[?25hdone\n",
            "Requirement already satisfied: torch in /usr/local/lib/python3.12/dist-packages (from evo_neuro_bench==0.1.0) (2.8.0+cu126)\n",
            "Requirement already satisfied: numpy in /usr/local/lib/python3.12/dist-packages (from evo_neuro_bench==0.1.0) (2.0.2)\n",
            "Requirement already satisfied: filelock in /usr/local/lib/python3.12/dist-packages (from torch->evo_neuro_bench==0.1.0) (3.20.0)\n",
            "Requirement already satisfied: typing-extensions>=4.10.0 in /usr/local/lib/python3.12/dist-packages (from torch->evo_neuro_bench==0.1.0) (4.15.0)\n",
            "Requirement already satisfied: setuptools in /usr/local/lib/python3.12/dist-packages (from torch->evo_neuro_bench==0.1.0) (75.2.0)\n",
            "Requirement already satisfied: sympy>=1.13.3 in /usr/local/lib/python3.12/dist-packages (from torch->evo_neuro_bench==0.1.0) (1.13.3)\n",
            "Requirement already satisfied: networkx in /usr/local/lib/python3.12/dist-packages (from torch->evo_neuro_bench==0.1.0) (3.5)\n",
            "Requirement already satisfied: jinja2 in /usr/local/lib/python3.12/dist-packages (from torch->evo_neuro_bench==0.1.0) (3.1.6)\n",
            "Requirement already satisfied: fsspec in /usr/local/lib/python3.12/dist-packages (from torch->evo_neuro_bench==0.1.0) (2025.3.0)\n",
            "Requirement already satisfied: nvidia-cuda-nvrtc-cu12==12.6.77 in /usr/local/lib/python3.12/dist-packages (from torch->evo_neuro_bench==0.1.0) (12.6.77)\n",
            "Requirement already satisfied: nvidia-cuda-runtime-cu12==12.6.77 in /usr/local/lib/python3.12/dist-packages (from torch->evo_neuro_bench==0.1.0) (12.6.77)\n",
            "Requirement already satisfied: nvidia-cuda-cupti-cu12==12.6.80 in /usr/local/lib/python3.12/dist-packages (from torch->evo_neuro_bench==0.1.0) (12.6.80)\n",
            "Requirement already satisfied: nvidia-cudnn-cu12==9.10.2.21 in /usr/local/lib/python3.12/dist-packages (from torch->evo_neuro_bench==0.1.0) (9.10.2.21)\n",
            "Requirement already satisfied: nvidia-cublas-cu12==12.6.4.1 in /usr/local/lib/python3.12/dist-packages (from torch->evo_neuro_bench==0.1.0) (12.6.4.1)\n",
            "Requirement already satisfied: nvidia-cufft-cu12==11.3.0.4 in /usr/local/lib/python3.12/dist-packages (from torch->evo_neuro_bench==0.1.0) (11.3.0.4)\n",
            "Requirement already satisfied: nvidia-curand-cu12==10.3.7.77 in /usr/local/lib/python3.12/dist-packages (from torch->evo_neuro_bench==0.1.0) (10.3.7.77)\n",
            "Requirement already satisfied: nvidia-cusolver-cu12==11.7.1.2 in /usr/local/lib/python3.12/dist-packages (from torch->evo_neuro_bench==0.1.0) (11.7.1.2)\n",
            "Requirement already satisfied: nvidia-cusparse-cu12==12.5.4.2 in /usr/local/lib/python3.12/dist-packages (from torch->evo_neuro_bench==0.1.0) (12.5.4.2)\n",
            "Requirement already satisfied: nvidia-cusparselt-cu12==0.7.1 in /usr/local/lib/python3.12/dist-packages (from torch->evo_neuro_bench==0.1.0) (0.7.1)\n",
            "Requirement already satisfied: nvidia-nccl-cu12==2.27.3 in /usr/local/lib/python3.12/dist-packages (from torch->evo_neuro_bench==0.1.0) (2.27.3)\n",
            "Requirement already satisfied: nvidia-nvtx-cu12==12.6.77 in /usr/local/lib/python3.12/dist-packages (from torch->evo_neuro_bench==0.1.0) (12.6.77)\n",
            "Requirement already satisfied: nvidia-nvjitlink-cu12==12.6.85 in /usr/local/lib/python3.12/dist-packages (from torch->evo_neuro_bench==0.1.0) (12.6.85)\n",
            "Requirement already satisfied: nvidia-cufile-cu12==1.11.1.6 in /usr/local/lib/python3.12/dist-packages (from torch->evo_neuro_bench==0.1.0) (1.11.1.6)\n",
            "Requirement already satisfied: triton==3.4.0 in /usr/local/lib/python3.12/dist-packages (from torch->evo_neuro_bench==0.1.0) (3.4.0)\n",
            "Requirement already satisfied: mpmath<1.4,>=1.1.0 in /usr/local/lib/python3.12/dist-packages (from sympy>=1.13.3->torch->evo_neuro_bench==0.1.0) (1.3.0)\n",
            "Requirement already satisfied: MarkupSafe>=2.0 in /usr/local/lib/python3.12/dist-packages (from jinja2->torch->evo_neuro_bench==0.1.0) (3.0.3)\n",
            "Building wheels for collected packages: evo_neuro_bench\n",
            "  Building editable for evo_neuro_bench (pyproject.toml) ... \u001b[?25l\u001b[?25hdone\n",
            "  Created wheel for evo_neuro_bench: filename=evo_neuro_bench-0.1.0-0.editable-py3-none-any.whl size=2443 sha256=10c849c9124bec04f9615622df389b18939b2ca74b85224bc560006c36e50a03\n",
            "  Stored in directory: /tmp/pip-ephem-wheel-cache-5yasm92_/wheels/6e/82/6a/f7770862840e8693e3195ca197bbf288d72121efc7df9b5197\n",
            "Successfully built evo_neuro_bench\n",
            "Installing collected packages: evo_neuro_bench\n",
            "Successfully installed evo_neuro_bench-0.1.0\n"
          ]
        }
      ]
    },
    {
      "cell_type": "code",
      "execution_count": 2,
      "metadata": {
        "id": "7H1gQsliul_L",
        "outputId": "da9c6837-8dd5-4d1f-9b11-da30364ea1eb",
        "colab": {
          "base_uri": "https://localhost:8080/",
          "height": 388
        }
      },
      "outputs": [
        {
          "output_type": "error",
          "ename": "ImportError",
          "evalue": "cannot import name 'build_models' from 'evo_neuro_bench' (unknown location)",
          "traceback": [
            "\u001b[0;31m---------------------------------------------------------------------------\u001b[0m",
            "\u001b[0;31mImportError\u001b[0m                               Traceback (most recent call last)",
            "\u001b[0;32m/tmp/ipython-input-4051522905.py\u001b[0m in \u001b[0;36m<cell line: 0>\u001b[0;34m()\u001b[0m\n\u001b[1;32m      1\u001b[0m \u001b[0;31m# Verify import\u001b[0m\u001b[0;34m\u001b[0m\u001b[0;34m\u001b[0m\u001b[0m\n\u001b[0;32m----> 2\u001b[0;31m \u001b[0;32mfrom\u001b[0m \u001b[0mevo_neuro_bench\u001b[0m \u001b[0;32mimport\u001b[0m \u001b[0mbuild_models\u001b[0m\u001b[0;34m,\u001b[0m \u001b[0mrun_benchmark\u001b[0m\u001b[0;34m\u001b[0m\u001b[0;34m\u001b[0m\u001b[0m\n\u001b[0m\u001b[1;32m      3\u001b[0m \u001b[0;32mfrom\u001b[0m \u001b[0mevo_neuro_bench\u001b[0m\u001b[0;34m.\u001b[0m\u001b[0mutils\u001b[0m \u001b[0;32mimport\u001b[0m \u001b[0mmake_obs\u001b[0m\u001b[0;34m\u001b[0m\u001b[0;34m\u001b[0m\u001b[0m\n\u001b[1;32m      4\u001b[0m \u001b[0;34m\u001b[0m\u001b[0m\n\u001b[1;32m      5\u001b[0m \u001b[0mmodels\u001b[0m \u001b[0;34m=\u001b[0m \u001b[0mbuild_models\u001b[0m\u001b[0;34m(\u001b[0m\u001b[0;34m)\u001b[0m\u001b[0;34m\u001b[0m\u001b[0;34m\u001b[0m\u001b[0m\n",
            "\u001b[0;31mImportError\u001b[0m: cannot import name 'build_models' from 'evo_neuro_bench' (unknown location)",
            "",
            "\u001b[0;31m---------------------------------------------------------------------------\u001b[0;32m\nNOTE: If your import is failing due to a missing package, you can\nmanually install dependencies using either !pip or !apt.\n\nTo view examples of installing some common dependencies, click the\n\"Open Examples\" button below.\n\u001b[0;31m---------------------------------------------------------------------------\u001b[0m\n"
          ],
          "errorDetails": {
            "actions": [
              {
                "action": "open_url",
                "actionText": "Open Examples",
                "url": "/notebooks/snippets/importing_libraries.ipynb"
              }
            ]
          }
        }
      ],
      "source": [
        "# Verify import\n",
        "from evo_neuro_bench import build_models, run_benchmark\n",
        "from evo_neuro_bench.utils import make_obs\n",
        "\n",
        "models = build_models()\n",
        "obs = make_obs(batch=1)\n",
        "for name, model in models.items():\n",
        "    print(name, model(obs)['motor'].shape)\n"
      ],
      "id": "7H1gQsliul_L"
    },
    {
      "cell_type": "markdown",
      "metadata": {
        "id": "tqg-LeDyul_L"
      },
      "source": [
        "## 2. Run a quick smoke benchmark\n",
        "Use smaller epochs/steps to validate that the modular training loops work end-to-end. Increase the values for full experiments.\n"
      ],
      "id": "tqg-LeDyul_L"
    },
    {
      "cell_type": "code",
      "execution_count": null,
      "metadata": {
        "id": "r9E77xx1ul_M"
      },
      "outputs": [],
      "source": [
        "results = run_benchmark(device='cpu', jelly_epochs=1, rev_steps=200, batch_size=32, detour_epochs=1)\n",
        "list(results.items())[:1]\n"
      ],
      "id": "r9E77xx1ul_M"
    }
  ],
  "metadata": {
    "kernelspec": {
      "display_name": "Python 3",
      "language": "python",
      "name": "python3"
    },
    "language_info": {
      "name": "python",
      "version": "3.10"
    },
    "colab": {
      "provenance": []
    }
  },
  "nbformat": 4,
  "nbformat_minor": 5
}